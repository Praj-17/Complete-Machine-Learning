{
 "cells": [
  {
   "cell_type": "markdown",
   "metadata": {},
   "source": []
  },
  {
   "cell_type": "markdown",
   "metadata": {},
   "source": [
    "PRAJWAL PRAVIN WAYKOS -- 272063"
   ]
  },
  {
   "cell_type": "markdown",
   "metadata": {},
   "source": [
    "## Classification using Naive bayes\n",
    "Guidelines for Prevention and Control of Coronavirus Disease (COVID-19)."
   ]
  },
  {
   "cell_type": "code",
   "execution_count": 12,
   "metadata": {},
   "outputs": [],
   "source": [
    "import pandas as pd\n",
    "dataset = pd.read_csv(\"E:\\\\DATA SETS\\\\Surveillance.csv\")\n"
   ]
  },
  {
   "cell_type": "code",
   "execution_count": 13,
   "metadata": {},
   "outputs": [
    {
     "name": "stdout",
     "output_type": "stream",
     "text": [
      "    A01  A02  A03  A04  A05  A06  A07 Categories\n",
      "0     1    1    1    1    1    0    0        PUS\n",
      "1     1    1    0    1    1    0    0        PUS\n",
      "2     1    1    1    1    0    1    0        PUS\n",
      "3     1    1    0    1    0    1    0        PUS\n",
      "4     1    0    0    0    0    0    1        PUS\n",
      "5     1    1    1    0    0    0    1        PUS\n",
      "6     1    1    0    0    0    0    1        PUS\n",
      "7     1    1    1    1    0    0    0        PUS\n",
      "8     1    0    0    1    1    0    0        PIM\n",
      "9     0    1    0    1    1    0    0        PIM\n",
      "10    1    0    0    1    0    1    0        PIM\n",
      "11    0    1    0    1    0    1    0        PIM\n",
      "12    0    1    0    0    0    0    1        PIM\n",
      "13    0    0    0    0    0    0    1        PWS\n"
     ]
    }
   ],
   "source": [
    "print(dataset)\n"
   ]
  },
  {
   "cell_type": "markdown",
   "metadata": {},
   "source": [
    "## There are 7 features , using these we have to predict the category in which a certain case fall"
   ]
  },
  {
   "cell_type": "code",
   "execution_count": 14,
   "metadata": {},
   "outputs": [],
   "source": [
    "X = dataset.iloc[:,:-1]\n",
    "Y = dataset.iloc[:,-1]\n"
   ]
  },
  {
   "cell_type": "code",
   "execution_count": 15,
   "metadata": {},
   "outputs": [
    {
     "data": {
      "text/html": [
       "<div>\n",
       "<style scoped>\n",
       "    .dataframe tbody tr th:only-of-type {\n",
       "        vertical-align: middle;\n",
       "    }\n",
       "\n",
       "    .dataframe tbody tr th {\n",
       "        vertical-align: top;\n",
       "    }\n",
       "\n",
       "    .dataframe thead th {\n",
       "        text-align: right;\n",
       "    }\n",
       "</style>\n",
       "<table border=\"1\" class=\"dataframe\">\n",
       "  <thead>\n",
       "    <tr style=\"text-align: right;\">\n",
       "      <th></th>\n",
       "      <th>A01</th>\n",
       "      <th>A02</th>\n",
       "      <th>A03</th>\n",
       "      <th>A04</th>\n",
       "      <th>A05</th>\n",
       "      <th>A06</th>\n",
       "      <th>A07</th>\n",
       "    </tr>\n",
       "  </thead>\n",
       "  <tbody>\n",
       "    <tr>\n",
       "      <th>0</th>\n",
       "      <td>1</td>\n",
       "      <td>1</td>\n",
       "      <td>1</td>\n",
       "      <td>1</td>\n",
       "      <td>1</td>\n",
       "      <td>0</td>\n",
       "      <td>0</td>\n",
       "    </tr>\n",
       "    <tr>\n",
       "      <th>1</th>\n",
       "      <td>1</td>\n",
       "      <td>1</td>\n",
       "      <td>0</td>\n",
       "      <td>1</td>\n",
       "      <td>1</td>\n",
       "      <td>0</td>\n",
       "      <td>0</td>\n",
       "    </tr>\n",
       "    <tr>\n",
       "      <th>2</th>\n",
       "      <td>1</td>\n",
       "      <td>1</td>\n",
       "      <td>1</td>\n",
       "      <td>1</td>\n",
       "      <td>0</td>\n",
       "      <td>1</td>\n",
       "      <td>0</td>\n",
       "    </tr>\n",
       "    <tr>\n",
       "      <th>3</th>\n",
       "      <td>1</td>\n",
       "      <td>1</td>\n",
       "      <td>0</td>\n",
       "      <td>1</td>\n",
       "      <td>0</td>\n",
       "      <td>1</td>\n",
       "      <td>0</td>\n",
       "    </tr>\n",
       "    <tr>\n",
       "      <th>4</th>\n",
       "      <td>1</td>\n",
       "      <td>0</td>\n",
       "      <td>0</td>\n",
       "      <td>0</td>\n",
       "      <td>0</td>\n",
       "      <td>0</td>\n",
       "      <td>1</td>\n",
       "    </tr>\n",
       "    <tr>\n",
       "      <th>5</th>\n",
       "      <td>1</td>\n",
       "      <td>1</td>\n",
       "      <td>1</td>\n",
       "      <td>0</td>\n",
       "      <td>0</td>\n",
       "      <td>0</td>\n",
       "      <td>1</td>\n",
       "    </tr>\n",
       "    <tr>\n",
       "      <th>6</th>\n",
       "      <td>1</td>\n",
       "      <td>1</td>\n",
       "      <td>0</td>\n",
       "      <td>0</td>\n",
       "      <td>0</td>\n",
       "      <td>0</td>\n",
       "      <td>1</td>\n",
       "    </tr>\n",
       "    <tr>\n",
       "      <th>7</th>\n",
       "      <td>1</td>\n",
       "      <td>1</td>\n",
       "      <td>1</td>\n",
       "      <td>1</td>\n",
       "      <td>0</td>\n",
       "      <td>0</td>\n",
       "      <td>0</td>\n",
       "    </tr>\n",
       "    <tr>\n",
       "      <th>8</th>\n",
       "      <td>1</td>\n",
       "      <td>0</td>\n",
       "      <td>0</td>\n",
       "      <td>1</td>\n",
       "      <td>1</td>\n",
       "      <td>0</td>\n",
       "      <td>0</td>\n",
       "    </tr>\n",
       "    <tr>\n",
       "      <th>9</th>\n",
       "      <td>0</td>\n",
       "      <td>1</td>\n",
       "      <td>0</td>\n",
       "      <td>1</td>\n",
       "      <td>1</td>\n",
       "      <td>0</td>\n",
       "      <td>0</td>\n",
       "    </tr>\n",
       "    <tr>\n",
       "      <th>10</th>\n",
       "      <td>1</td>\n",
       "      <td>0</td>\n",
       "      <td>0</td>\n",
       "      <td>1</td>\n",
       "      <td>0</td>\n",
       "      <td>1</td>\n",
       "      <td>0</td>\n",
       "    </tr>\n",
       "    <tr>\n",
       "      <th>11</th>\n",
       "      <td>0</td>\n",
       "      <td>1</td>\n",
       "      <td>0</td>\n",
       "      <td>1</td>\n",
       "      <td>0</td>\n",
       "      <td>1</td>\n",
       "      <td>0</td>\n",
       "    </tr>\n",
       "    <tr>\n",
       "      <th>12</th>\n",
       "      <td>0</td>\n",
       "      <td>1</td>\n",
       "      <td>0</td>\n",
       "      <td>0</td>\n",
       "      <td>0</td>\n",
       "      <td>0</td>\n",
       "      <td>1</td>\n",
       "    </tr>\n",
       "    <tr>\n",
       "      <th>13</th>\n",
       "      <td>0</td>\n",
       "      <td>0</td>\n",
       "      <td>0</td>\n",
       "      <td>0</td>\n",
       "      <td>0</td>\n",
       "      <td>0</td>\n",
       "      <td>1</td>\n",
       "    </tr>\n",
       "  </tbody>\n",
       "</table>\n",
       "</div>"
      ],
      "text/plain": [
       "    A01  A02  A03  A04  A05  A06  A07\n",
       "0     1    1    1    1    1    0    0\n",
       "1     1    1    0    1    1    0    0\n",
       "2     1    1    1    1    0    1    0\n",
       "3     1    1    0    1    0    1    0\n",
       "4     1    0    0    0    0    0    1\n",
       "5     1    1    1    0    0    0    1\n",
       "6     1    1    0    0    0    0    1\n",
       "7     1    1    1    1    0    0    0\n",
       "8     1    0    0    1    1    0    0\n",
       "9     0    1    0    1    1    0    0\n",
       "10    1    0    0    1    0    1    0\n",
       "11    0    1    0    1    0    1    0\n",
       "12    0    1    0    0    0    0    1\n",
       "13    0    0    0    0    0    0    1"
      ]
     },
     "execution_count": 15,
     "metadata": {},
     "output_type": "execute_result"
    }
   ],
   "source": [
    "X"
   ]
  },
  {
   "cell_type": "code",
   "execution_count": 16,
   "metadata": {},
   "outputs": [
    {
     "data": {
      "text/plain": [
       "0     PUS\n",
       "1     PUS\n",
       "2     PUS\n",
       "3     PUS\n",
       "4     PUS\n",
       "5     PUS\n",
       "6     PUS\n",
       "7     PUS\n",
       "8     PIM\n",
       "9     PIM\n",
       "10    PIM\n",
       "11    PIM\n",
       "12    PIM\n",
       "13    PWS\n",
       "Name: Categories, dtype: object"
      ]
     },
     "execution_count": 16,
     "metadata": {},
     "output_type": "execute_result"
    }
   ],
   "source": [
    "Y"
   ]
  },
  {
   "cell_type": "code",
   "execution_count": 17,
   "metadata": {},
   "outputs": [],
   "source": [
    "from sklearn.model_selection import train_test_split\n",
    "X_train, X_test, Y_train, Y_test = train_test_split(X, Y, test_size= 0.2)"
   ]
  },
  {
   "cell_type": "code",
   "execution_count": 18,
   "metadata": {},
   "outputs": [
    {
     "name": "stdout",
     "output_type": "stream",
     "text": [
      "____________X_train__________\n",
      "    A01  A02  A03  A04  A05  A06  A07\n",
      "5     1    1    1    0    0    0    1\n",
      "1     1    1    0    1    1    0    0\n",
      "13    0    0    0    0    0    0    1\n",
      "7     1    1    1    1    0    0    0\n",
      "9     0    1    0    1    1    0    0\n",
      "11    0    1    0    1    0    1    0\n",
      "8     1    0    0    1    1    0    0\n",
      "12    0    1    0    0    0    0    1\n",
      "3     1    1    0    1    0    1    0\n",
      "6     1    1    0    0    0    0    1\n",
      "4     1    0    0    0    0    0    1\n",
      "____________X_test____________\n",
      "    A01  A02  A03  A04  A05  A06  A07\n",
      "2     1    1    1    1    0    1    0\n",
      "10    1    0    0    1    0    1    0\n",
      "0     1    1    1    1    1    0    0\n",
      "____________Y_train____________\n",
      "5     PUS\n",
      "1     PUS\n",
      "13    PWS\n",
      "7     PUS\n",
      "9     PIM\n",
      "11    PIM\n",
      "8     PIM\n",
      "12    PIM\n",
      "3     PUS\n",
      "6     PUS\n",
      "4     PUS\n",
      "Name: Categories, dtype: object\n",
      "____________Y_test____________\n",
      "2     PUS\n",
      "10    PIM\n",
      "0     PUS\n",
      "Name: Categories, dtype: object\n"
     ]
    }
   ],
   "source": [
    "print(\"____________X_train__________\")\n",
    "print(X_train)\n",
    "print(\"____________X_test____________\")\n",
    "print(X_test)\n",
    "print(\"____________Y_train____________\")\n",
    "print(Y_train)\n",
    "print(\"____________Y_test____________\")\n",
    "print(Y_test)"
   ]
  },
  {
   "cell_type": "code",
   "execution_count": 19,
   "metadata": {},
   "outputs": [],
   "source": [
    "from sklearn.naive_bayes import GaussianNB\n",
    "model = GaussianNB()\n",
    "model.fit(X_train, Y_train)\n",
    "y_pred = model.predict(X_test)\n"
   ]
  },
  {
   "cell_type": "code",
   "execution_count": 20,
   "metadata": {},
   "outputs": [
    {
     "name": "stdout",
     "output_type": "stream",
     "text": [
      "___________________original values_________\n",
      "2     PUS\n",
      "10    PIM\n",
      "0     PUS\n",
      "Name: Categories, dtype: object\n",
      "_________________Predicted values_____________\n",
      "['PUS' 'PIM' 'PUS']\n"
     ]
    }
   ],
   "source": [
    "print(\"___________________original values_________\")\n",
    "print(Y_test)\n",
    "print(\"_________________Predicted values_____________\")\n",
    "print(y_pred)"
   ]
  },
  {
   "cell_type": "code",
   "execution_count": 21,
   "metadata": {},
   "outputs": [],
   "source": [
    "from sklearn.metrics import confusion_matrix, f1_score, accuracy_score\n",
    "\n",
    "accuracy = accuracy_score(Y_test, y_pred)\n",
    "# f1 = f1_score(Y_test, y_pred)\n",
    "cm = confusion_matrix(Y_test, y_pred)"
   ]
  },
  {
   "cell_type": "code",
   "execution_count": 22,
   "metadata": {},
   "outputs": [
    {
     "name": "stdout",
     "output_type": "stream",
     "text": [
      "___________Accuracy is________________\n",
      "1.0\n",
      "___________Confusion matrix_______\n",
      "[[1 0]\n",
      " [0 2]]\n"
     ]
    }
   ],
   "source": [
    "print(\"___________Accuracy is________________\")\n",
    "print(accuracy)\n",
    "print(\"___________Confusion matrix_______\")\n",
    "print(cm)"
   ]
  },
  {
   "cell_type": "markdown",
   "metadata": {},
   "source": [
    "\n",
    "    N P\n",
    "N   1 0\n",
    "P   0 2"
   ]
  }
 ],
 "metadata": {
  "interpreter": {
   "hash": "1fb457075518da48b6f10d6a89d1c79a5d3a8a4cce5ab48738750cf0a5c90cbc"
  },
  "kernelspec": {
   "display_name": "Python 3.9.6 64-bit",
   "language": "python",
   "name": "python3"
  },
  "language_info": {
   "codemirror_mode": {
    "name": "ipython",
    "version": 3
   },
   "file_extension": ".py",
   "mimetype": "text/x-python",
   "name": "python",
   "nbconvert_exporter": "python",
   "pygments_lexer": "ipython3",
   "version": "3.9.6"
  },
  "orig_nbformat": 4
 },
 "nbformat": 4,
 "nbformat_minor": 2
}
